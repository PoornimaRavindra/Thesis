{
 "cells": [
  {
   "cell_type": "code",
   "execution_count": 1,
   "metadata": {},
   "outputs": [
    {
     "name": "stderr",
     "output_type": "stream",
     "text": [
      "Using TensorFlow backend.\n"
     ]
    }
   ],
   "source": [
    "import numpy as np\n",
    "import pandas as pd\n",
    "import os\n",
    "from keras import models\n",
    "from keras.layers import Dense, Dropout\n",
    "from keras.optimizers import Adam\n",
    "from keras import losses \n",
    "from keras import metrics\n",
    "from keras.models import Sequential\n",
    "from sklearn.model_selection import train_test_split\n",
    "from sklearn.metrics import confusion_matrix,classification_report,accuracy_score\n",
    "import itertools\n",
    "import matplotlib.pyplot as plt\n",
    "%matplotlib inline\n",
    "from pathlib import Path"
   ]
  },
  {
   "cell_type": "code",
   "execution_count": 2,
   "metadata": {},
   "outputs": [
    {
     "data": {
      "text/plain": [
       "['.ipynb_checkpoints',\n",
       " 'AirQualityANN_with_ML-Copy1.ipynb',\n",
       " 'AirQualityANN_with_ML.ipynb',\n",
       " 'cluster.ipynb',\n",
       " 'find_next_3months_gas.ipynb',\n",
       " 'input',\n",
       " 'model',\n",
       " 'Test.ipynb']"
      ]
     },
     "execution_count": 2,
     "metadata": {},
     "output_type": "execute_result"
    }
   ],
   "source": [
    "os.listdir()"
   ]
  },
  {
   "cell_type": "code",
   "execution_count": 3,
   "metadata": {},
   "outputs": [],
   "source": [
    "np.random.seed(121)"
   ]
  },
  {
   "cell_type": "code",
   "execution_count": 4,
   "metadata": {},
   "outputs": [],
   "source": [
    "# set input directory\n",
    "input_dir = 'input'"
   ]
  },
  {
   "cell_type": "code",
   "execution_count": 5,
   "metadata": {},
   "outputs": [],
   "source": [
    "data = pd.read_csv(os.path.join(input_dir,'main_data.csv'))"
   ]
  },
  {
   "cell_type": "code",
   "execution_count": 6,
   "metadata": {},
   "outputs": [
    {
     "data": {
      "text/html": [
       "<div>\n",
       "<style scoped>\n",
       "    .dataframe tbody tr th:only-of-type {\n",
       "        vertical-align: middle;\n",
       "    }\n",
       "\n",
       "    .dataframe tbody tr th {\n",
       "        vertical-align: top;\n",
       "    }\n",
       "\n",
       "    .dataframe thead th {\n",
       "        text-align: right;\n",
       "    }\n",
       "</style>\n",
       "<table border=\"1\" class=\"dataframe\">\n",
       "  <thead>\n",
       "    <tr style=\"text-align: right;\">\n",
       "      <th></th>\n",
       "      <th>NO</th>\n",
       "      <th>NO2</th>\n",
       "      <th>NOx</th>\n",
       "      <th>NH3</th>\n",
       "      <th>CO</th>\n",
       "      <th>SO2</th>\n",
       "      <th>class</th>\n",
       "    </tr>\n",
       "  </thead>\n",
       "  <tbody>\n",
       "    <tr>\n",
       "      <td>0</td>\n",
       "      <td>6.99</td>\n",
       "      <td>2.85</td>\n",
       "      <td>11.93</td>\n",
       "      <td>26.64</td>\n",
       "      <td>0.60</td>\n",
       "      <td>4.53</td>\n",
       "      <td>good</td>\n",
       "    </tr>\n",
       "    <tr>\n",
       "      <td>1</td>\n",
       "      <td>7.20</td>\n",
       "      <td>1.27</td>\n",
       "      <td>10.65</td>\n",
       "      <td>25.63</td>\n",
       "      <td>0.56</td>\n",
       "      <td>4.22</td>\n",
       "      <td>good</td>\n",
       "    </tr>\n",
       "    <tr>\n",
       "      <td>2</td>\n",
       "      <td>7.19</td>\n",
       "      <td>0.91</td>\n",
       "      <td>10.37</td>\n",
       "      <td>29.16</td>\n",
       "      <td>0.57</td>\n",
       "      <td>4.46</td>\n",
       "      <td>good</td>\n",
       "    </tr>\n",
       "    <tr>\n",
       "      <td>3</td>\n",
       "      <td>7.14</td>\n",
       "      <td>1.07</td>\n",
       "      <td>10.48</td>\n",
       "      <td>28.95</td>\n",
       "      <td>0.57</td>\n",
       "      <td>4.53</td>\n",
       "      <td>good</td>\n",
       "    </tr>\n",
       "    <tr>\n",
       "      <td>4</td>\n",
       "      <td>7.09</td>\n",
       "      <td>0.36</td>\n",
       "      <td>9.73</td>\n",
       "      <td>28.41</td>\n",
       "      <td>0.48</td>\n",
       "      <td>4.63</td>\n",
       "      <td>good</td>\n",
       "    </tr>\n",
       "  </tbody>\n",
       "</table>\n",
       "</div>"
      ],
      "text/plain": [
       "     NO   NO2    NOx    NH3    CO   SO2 class\n",
       "0  6.99  2.85  11.93  26.64  0.60  4.53  good\n",
       "1  7.20  1.27  10.65  25.63  0.56  4.22  good\n",
       "2  7.19  0.91  10.37  29.16  0.57  4.46  good\n",
       "3  7.14  1.07  10.48  28.95  0.57  4.53  good\n",
       "4  7.09  0.36   9.73  28.41  0.48  4.63  good"
      ]
     },
     "execution_count": 6,
     "metadata": {},
     "output_type": "execute_result"
    }
   ],
   "source": [
    "data.head()"
   ]
  },
  {
   "cell_type": "code",
   "execution_count": 7,
   "metadata": {},
   "outputs": [
    {
     "data": {
      "text/plain": [
       "array(['good', 'moderate', 'poor', 'severe', 'satisfactory'], dtype=object)"
      ]
     },
     "execution_count": 7,
     "metadata": {},
     "output_type": "execute_result"
    }
   ],
   "source": [
    "data['class'].unique()"
   ]
  },
  {
   "cell_type": "code",
   "execution_count": 8,
   "metadata": {},
   "outputs": [],
   "source": [
    "class_label = ['good', 'moderate', 'poor', 'severe', 'satisfactory']"
   ]
  },
  {
   "cell_type": "code",
   "execution_count": 9,
   "metadata": {},
   "outputs": [],
   "source": [
    "# data['class'].replace('good',0,inplace=True)\n",
    "# data['class'].replace('moderate',1,inplace=True)\n",
    "# data['class'].replace('satisfactory',2,inplace=True)\n",
    "# data['class'].replace('poor',3,inplace=True)\n",
    "# data['class'].replace('severe',4,inplace=True)"
   ]
  },
  {
   "cell_type": "code",
   "execution_count": 10,
   "metadata": {},
   "outputs": [],
   "source": [
    "data['class'] = data['class'].astype('category')"
   ]
  },
  {
   "cell_type": "code",
   "execution_count": 11,
   "metadata": {},
   "outputs": [],
   "source": [
    "cat_columns = data.select_dtypes(['category']).columns\n",
    "data[cat_columns] = data[cat_columns].apply(lambda x: x.cat.codes)"
   ]
  },
  {
   "cell_type": "code",
   "execution_count": 12,
   "metadata": {},
   "outputs": [
    {
     "data": {
      "text/html": [
       "<div>\n",
       "<style scoped>\n",
       "    .dataframe tbody tr th:only-of-type {\n",
       "        vertical-align: middle;\n",
       "    }\n",
       "\n",
       "    .dataframe tbody tr th {\n",
       "        vertical-align: top;\n",
       "    }\n",
       "\n",
       "    .dataframe thead th {\n",
       "        text-align: right;\n",
       "    }\n",
       "</style>\n",
       "<table border=\"1\" class=\"dataframe\">\n",
       "  <thead>\n",
       "    <tr style=\"text-align: right;\">\n",
       "      <th></th>\n",
       "      <th>NO</th>\n",
       "      <th>NO2</th>\n",
       "      <th>NOx</th>\n",
       "      <th>NH3</th>\n",
       "      <th>CO</th>\n",
       "      <th>SO2</th>\n",
       "      <th>class</th>\n",
       "    </tr>\n",
       "  </thead>\n",
       "  <tbody>\n",
       "    <tr>\n",
       "      <td>0</td>\n",
       "      <td>6.99</td>\n",
       "      <td>2.85</td>\n",
       "      <td>11.93</td>\n",
       "      <td>26.64</td>\n",
       "      <td>0.60</td>\n",
       "      <td>4.53</td>\n",
       "      <td>0</td>\n",
       "    </tr>\n",
       "    <tr>\n",
       "      <td>1</td>\n",
       "      <td>7.20</td>\n",
       "      <td>1.27</td>\n",
       "      <td>10.65</td>\n",
       "      <td>25.63</td>\n",
       "      <td>0.56</td>\n",
       "      <td>4.22</td>\n",
       "      <td>0</td>\n",
       "    </tr>\n",
       "    <tr>\n",
       "      <td>2</td>\n",
       "      <td>7.19</td>\n",
       "      <td>0.91</td>\n",
       "      <td>10.37</td>\n",
       "      <td>29.16</td>\n",
       "      <td>0.57</td>\n",
       "      <td>4.46</td>\n",
       "      <td>0</td>\n",
       "    </tr>\n",
       "    <tr>\n",
       "      <td>3</td>\n",
       "      <td>7.14</td>\n",
       "      <td>1.07</td>\n",
       "      <td>10.48</td>\n",
       "      <td>28.95</td>\n",
       "      <td>0.57</td>\n",
       "      <td>4.53</td>\n",
       "      <td>0</td>\n",
       "    </tr>\n",
       "    <tr>\n",
       "      <td>4</td>\n",
       "      <td>7.09</td>\n",
       "      <td>0.36</td>\n",
       "      <td>9.73</td>\n",
       "      <td>28.41</td>\n",
       "      <td>0.48</td>\n",
       "      <td>4.63</td>\n",
       "      <td>0</td>\n",
       "    </tr>\n",
       "  </tbody>\n",
       "</table>\n",
       "</div>"
      ],
      "text/plain": [
       "     NO   NO2    NOx    NH3    CO   SO2  class\n",
       "0  6.99  2.85  11.93  26.64  0.60  4.53      0\n",
       "1  7.20  1.27  10.65  25.63  0.56  4.22      0\n",
       "2  7.19  0.91  10.37  29.16  0.57  4.46      0\n",
       "3  7.14  1.07  10.48  28.95  0.57  4.53      0\n",
       "4  7.09  0.36   9.73  28.41  0.48  4.63      0"
      ]
     },
     "execution_count": 12,
     "metadata": {},
     "output_type": "execute_result"
    }
   ],
   "source": [
    "data.head()"
   ]
  },
  {
   "cell_type": "code",
   "execution_count": 13,
   "metadata": {
    "scrolled": true
   },
   "outputs": [
    {
     "data": {
      "text/plain": [
       "2"
      ]
     },
     "execution_count": 13,
     "metadata": {},
     "output_type": "execute_result"
    }
   ],
   "source": [
    "data.ndim"
   ]
  },
  {
   "cell_type": "code",
   "execution_count": 14,
   "metadata": {},
   "outputs": [
    {
     "data": {
      "text/plain": [
       "(14704, 7)"
      ]
     },
     "execution_count": 14,
     "metadata": {},
     "output_type": "execute_result"
    }
   ],
   "source": [
    "data.shape"
   ]
  },
  {
   "cell_type": "code",
   "execution_count": 15,
   "metadata": {},
   "outputs": [
    {
     "data": {
      "text/plain": [
       "Index(['NO', 'NO2', 'NOx', 'NH3', 'CO', 'SO2', 'class'], dtype='object')"
      ]
     },
     "execution_count": 15,
     "metadata": {},
     "output_type": "execute_result"
    }
   ],
   "source": [
    "data.columns"
   ]
  },
  {
   "cell_type": "code",
   "execution_count": 16,
   "metadata": {},
   "outputs": [
    {
     "data": {
      "text/html": [
       "<div>\n",
       "<style scoped>\n",
       "    .dataframe tbody tr th:only-of-type {\n",
       "        vertical-align: middle;\n",
       "    }\n",
       "\n",
       "    .dataframe tbody tr th {\n",
       "        vertical-align: top;\n",
       "    }\n",
       "\n",
       "    .dataframe thead tr th {\n",
       "        text-align: left;\n",
       "    }\n",
       "\n",
       "    .dataframe thead tr:last-of-type th {\n",
       "        text-align: right;\n",
       "    }\n",
       "</style>\n",
       "<table border=\"1\" class=\"dataframe\">\n",
       "  <thead>\n",
       "    <tr>\n",
       "      <th></th>\n",
       "      <th colspan=\"8\" halign=\"left\">NO</th>\n",
       "      <th colspan=\"2\" halign=\"left\">NO2</th>\n",
       "      <th>...</th>\n",
       "      <th colspan=\"2\" halign=\"left\">CO</th>\n",
       "      <th colspan=\"8\" halign=\"left\">SO2</th>\n",
       "    </tr>\n",
       "    <tr>\n",
       "      <th></th>\n",
       "      <th>count</th>\n",
       "      <th>mean</th>\n",
       "      <th>std</th>\n",
       "      <th>min</th>\n",
       "      <th>25%</th>\n",
       "      <th>50%</th>\n",
       "      <th>75%</th>\n",
       "      <th>max</th>\n",
       "      <th>count</th>\n",
       "      <th>mean</th>\n",
       "      <th>...</th>\n",
       "      <th>75%</th>\n",
       "      <th>max</th>\n",
       "      <th>count</th>\n",
       "      <th>mean</th>\n",
       "      <th>std</th>\n",
       "      <th>min</th>\n",
       "      <th>25%</th>\n",
       "      <th>50%</th>\n",
       "      <th>75%</th>\n",
       "      <th>max</th>\n",
       "    </tr>\n",
       "    <tr>\n",
       "      <th>class</th>\n",
       "      <th></th>\n",
       "      <th></th>\n",
       "      <th></th>\n",
       "      <th></th>\n",
       "      <th></th>\n",
       "      <th></th>\n",
       "      <th></th>\n",
       "      <th></th>\n",
       "      <th></th>\n",
       "      <th></th>\n",
       "      <th></th>\n",
       "      <th></th>\n",
       "      <th></th>\n",
       "      <th></th>\n",
       "      <th></th>\n",
       "      <th></th>\n",
       "      <th></th>\n",
       "      <th></th>\n",
       "      <th></th>\n",
       "      <th></th>\n",
       "      <th></th>\n",
       "    </tr>\n",
       "  </thead>\n",
       "  <tbody>\n",
       "    <tr>\n",
       "      <td>0</td>\n",
       "      <td>6601.0</td>\n",
       "      <td>7.738029</td>\n",
       "      <td>6.849134</td>\n",
       "      <td>0.03</td>\n",
       "      <td>2.9900</td>\n",
       "      <td>5.960</td>\n",
       "      <td>9.9600</td>\n",
       "      <td>58.72</td>\n",
       "      <td>6601.0</td>\n",
       "      <td>14.411392</td>\n",
       "      <td>...</td>\n",
       "      <td>1.0600</td>\n",
       "      <td>48.07</td>\n",
       "      <td>6601.0</td>\n",
       "      <td>9.552518</td>\n",
       "      <td>8.179881</td>\n",
       "      <td>0.41</td>\n",
       "      <td>4.9200</td>\n",
       "      <td>7.05</td>\n",
       "      <td>11.6000</td>\n",
       "      <td>92.66</td>\n",
       "    </tr>\n",
       "    <tr>\n",
       "      <td>1</td>\n",
       "      <td>4958.0</td>\n",
       "      <td>12.841105</td>\n",
       "      <td>7.780266</td>\n",
       "      <td>1.23</td>\n",
       "      <td>7.7125</td>\n",
       "      <td>10.945</td>\n",
       "      <td>15.9650</td>\n",
       "      <td>70.60</td>\n",
       "      <td>4958.0</td>\n",
       "      <td>32.868899</td>\n",
       "      <td>...</td>\n",
       "      <td>1.1700</td>\n",
       "      <td>21.83</td>\n",
       "      <td>4958.0</td>\n",
       "      <td>10.377047</td>\n",
       "      <td>6.818879</td>\n",
       "      <td>0.71</td>\n",
       "      <td>6.1900</td>\n",
       "      <td>8.96</td>\n",
       "      <td>12.5900</td>\n",
       "      <td>81.59</td>\n",
       "    </tr>\n",
       "    <tr>\n",
       "      <td>2</td>\n",
       "      <td>2044.0</td>\n",
       "      <td>39.312392</td>\n",
       "      <td>18.994279</td>\n",
       "      <td>3.91</td>\n",
       "      <td>25.6975</td>\n",
       "      <td>35.870</td>\n",
       "      <td>50.6825</td>\n",
       "      <td>150.78</td>\n",
       "      <td>2044.0</td>\n",
       "      <td>49.711977</td>\n",
       "      <td>...</td>\n",
       "      <td>1.6025</td>\n",
       "      <td>30.44</td>\n",
       "      <td>2044.0</td>\n",
       "      <td>14.842593</td>\n",
       "      <td>9.003026</td>\n",
       "      <td>0.01</td>\n",
       "      <td>9.7775</td>\n",
       "      <td>13.04</td>\n",
       "      <td>17.5625</td>\n",
       "      <td>78.88</td>\n",
       "    </tr>\n",
       "    <tr>\n",
       "      <td>3</td>\n",
       "      <td>481.0</td>\n",
       "      <td>10.834137</td>\n",
       "      <td>8.210643</td>\n",
       "      <td>0.79</td>\n",
       "      <td>6.0900</td>\n",
       "      <td>8.770</td>\n",
       "      <td>12.1400</td>\n",
       "      <td>77.80</td>\n",
       "      <td>481.0</td>\n",
       "      <td>18.667027</td>\n",
       "      <td>...</td>\n",
       "      <td>1.2300</td>\n",
       "      <td>11.54</td>\n",
       "      <td>481.0</td>\n",
       "      <td>8.007464</td>\n",
       "      <td>5.514462</td>\n",
       "      <td>1.26</td>\n",
       "      <td>4.0400</td>\n",
       "      <td>6.55</td>\n",
       "      <td>10.7900</td>\n",
       "      <td>48.03</td>\n",
       "    </tr>\n",
       "    <tr>\n",
       "      <td>4</td>\n",
       "      <td>620.0</td>\n",
       "      <td>97.409339</td>\n",
       "      <td>36.582816</td>\n",
       "      <td>15.68</td>\n",
       "      <td>72.1300</td>\n",
       "      <td>91.325</td>\n",
       "      <td>119.8725</td>\n",
       "      <td>270.09</td>\n",
       "      <td>620.0</td>\n",
       "      <td>71.705081</td>\n",
       "      <td>...</td>\n",
       "      <td>2.3500</td>\n",
       "      <td>29.46</td>\n",
       "      <td>620.0</td>\n",
       "      <td>18.634968</td>\n",
       "      <td>10.456291</td>\n",
       "      <td>2.56</td>\n",
       "      <td>12.3475</td>\n",
       "      <td>16.85</td>\n",
       "      <td>22.2025</td>\n",
       "      <td>79.83</td>\n",
       "    </tr>\n",
       "  </tbody>\n",
       "</table>\n",
       "<p>5 rows × 48 columns</p>\n",
       "</div>"
      ],
      "text/plain": [
       "           NO                                                                  \\\n",
       "        count       mean        std    min      25%     50%       75%     max   \n",
       "class                                                                           \n",
       "0      6601.0   7.738029   6.849134   0.03   2.9900   5.960    9.9600   58.72   \n",
       "1      4958.0  12.841105   7.780266   1.23   7.7125  10.945   15.9650   70.60   \n",
       "2      2044.0  39.312392  18.994279   3.91  25.6975  35.870   50.6825  150.78   \n",
       "3       481.0  10.834137   8.210643   0.79   6.0900   8.770   12.1400   77.80   \n",
       "4       620.0  97.409339  36.582816  15.68  72.1300  91.325  119.8725  270.09   \n",
       "\n",
       "          NO2             ...      CO            SO2                        \\\n",
       "        count       mean  ...     75%    max   count       mean        std   \n",
       "class                     ...                                                \n",
       "0      6601.0  14.411392  ...  1.0600  48.07  6601.0   9.552518   8.179881   \n",
       "1      4958.0  32.868899  ...  1.1700  21.83  4958.0  10.377047   6.818879   \n",
       "2      2044.0  49.711977  ...  1.6025  30.44  2044.0  14.842593   9.003026   \n",
       "3       481.0  18.667027  ...  1.2300  11.54   481.0   8.007464   5.514462   \n",
       "4       620.0  71.705081  ...  2.3500  29.46   620.0  18.634968  10.456291   \n",
       "\n",
       "                                             \n",
       "        min      25%    50%      75%    max  \n",
       "class                                        \n",
       "0      0.41   4.9200   7.05  11.6000  92.66  \n",
       "1      0.71   6.1900   8.96  12.5900  81.59  \n",
       "2      0.01   9.7775  13.04  17.5625  78.88  \n",
       "3      1.26   4.0400   6.55  10.7900  48.03  \n",
       "4      2.56  12.3475  16.85  22.2025  79.83  \n",
       "\n",
       "[5 rows x 48 columns]"
      ]
     },
     "execution_count": 16,
     "metadata": {},
     "output_type": "execute_result"
    }
   ],
   "source": [
    "data.groupby('class').describe()"
   ]
  },
  {
   "cell_type": "code",
   "execution_count": 17,
   "metadata": {},
   "outputs": [
    {
     "data": {
      "text/plain": [
       "NO       0\n",
       "NO2      0\n",
       "NOx      0\n",
       "NH3      0\n",
       "CO       0\n",
       "SO2      0\n",
       "class    0\n",
       "dtype: int64"
      ]
     },
     "execution_count": 17,
     "metadata": {},
     "output_type": "execute_result"
    }
   ],
   "source": [
    "pd.isnull(data).sum()"
   ]
  },
  {
   "cell_type": "code",
   "execution_count": 18,
   "metadata": {},
   "outputs": [
    {
     "data": {
      "text/plain": [
       "NO       0\n",
       "NO2      0\n",
       "NOx      0\n",
       "NH3      0\n",
       "CO       0\n",
       "SO2      0\n",
       "class    0\n",
       "dtype: int64"
      ]
     },
     "execution_count": 18,
     "metadata": {},
     "output_type": "execute_result"
    }
   ],
   "source": [
    "pd.isna(data).sum()"
   ]
  },
  {
   "cell_type": "code",
   "execution_count": 19,
   "metadata": {},
   "outputs": [],
   "source": [
    "x = data.drop('class',axis =1)\n",
    "y = data['class']\n",
    "#x_train, x_test, y_train, y_test = train_test_split(x, y, test_size = 0.3, random_state=42)\n",
    "x_train, x_test, y_train, y_test = train_test_split(x, y, test_size = 0.3, shuffle=True)"
   ]
  },
  {
   "cell_type": "code",
   "execution_count": 20,
   "metadata": {},
   "outputs": [
    {
     "name": "stdout",
     "output_type": "stream",
     "text": [
      "(10292, 6) (10292,) (4412, 6) (4412,)\n"
     ]
    }
   ],
   "source": [
    "#print the shape of the data\n",
    "print(x_train.shape, y_train.shape, x_test.shape, y_test.shape)"
   ]
  },
  {
   "cell_type": "code",
   "execution_count": 21,
   "metadata": {},
   "outputs": [
    {
     "data": {
      "text/html": [
       "<div>\n",
       "<style scoped>\n",
       "    .dataframe tbody tr th:only-of-type {\n",
       "        vertical-align: middle;\n",
       "    }\n",
       "\n",
       "    .dataframe tbody tr th {\n",
       "        vertical-align: top;\n",
       "    }\n",
       "\n",
       "    .dataframe thead th {\n",
       "        text-align: right;\n",
       "    }\n",
       "</style>\n",
       "<table border=\"1\" class=\"dataframe\">\n",
       "  <thead>\n",
       "    <tr style=\"text-align: right;\">\n",
       "      <th></th>\n",
       "      <th>NO</th>\n",
       "      <th>NO2</th>\n",
       "      <th>NOx</th>\n",
       "      <th>NH3</th>\n",
       "      <th>CO</th>\n",
       "      <th>SO2</th>\n",
       "    </tr>\n",
       "  </thead>\n",
       "  <tbody>\n",
       "    <tr>\n",
       "      <td>26</td>\n",
       "      <td>2.96</td>\n",
       "      <td>0.15</td>\n",
       "      <td>3.69</td>\n",
       "      <td>25.10</td>\n",
       "      <td>0.31</td>\n",
       "      <td>8.49</td>\n",
       "    </tr>\n",
       "    <tr>\n",
       "      <td>7113</td>\n",
       "      <td>14.65</td>\n",
       "      <td>25.52</td>\n",
       "      <td>27.65</td>\n",
       "      <td>27.99</td>\n",
       "      <td>0.85</td>\n",
       "      <td>10.84</td>\n",
       "    </tr>\n",
       "    <tr>\n",
       "      <td>8437</td>\n",
       "      <td>5.09</td>\n",
       "      <td>10.36</td>\n",
       "      <td>14.06</td>\n",
       "      <td>10.59</td>\n",
       "      <td>0.89</td>\n",
       "      <td>7.65</td>\n",
       "    </tr>\n",
       "    <tr>\n",
       "      <td>5387</td>\n",
       "      <td>9.79</td>\n",
       "      <td>16.96</td>\n",
       "      <td>26.02</td>\n",
       "      <td>30.73</td>\n",
       "      <td>0.82</td>\n",
       "      <td>10.53</td>\n",
       "    </tr>\n",
       "    <tr>\n",
       "      <td>10101</td>\n",
       "      <td>11.20</td>\n",
       "      <td>49.13</td>\n",
       "      <td>50.99</td>\n",
       "      <td>22.90</td>\n",
       "      <td>0.84</td>\n",
       "      <td>10.84</td>\n",
       "    </tr>\n",
       "  </tbody>\n",
       "</table>\n",
       "</div>"
      ],
      "text/plain": [
       "          NO    NO2    NOx    NH3    CO    SO2\n",
       "26      2.96   0.15   3.69  25.10  0.31   8.49\n",
       "7113   14.65  25.52  27.65  27.99  0.85  10.84\n",
       "8437    5.09  10.36  14.06  10.59  0.89   7.65\n",
       "5387    9.79  16.96  26.02  30.73  0.82  10.53\n",
       "10101  11.20  49.13  50.99  22.90  0.84  10.84"
      ]
     },
     "execution_count": 21,
     "metadata": {},
     "output_type": "execute_result"
    }
   ],
   "source": [
    "x_train.head()"
   ]
  },
  {
   "cell_type": "code",
   "execution_count": 22,
   "metadata": {},
   "outputs": [
    {
     "data": {
      "text/plain": [
       "26       0\n",
       "7113     1\n",
       "8437     0\n",
       "5387     1\n",
       "10101    1\n",
       "Name: class, dtype: int8"
      ]
     },
     "execution_count": 22,
     "metadata": {},
     "output_type": "execute_result"
    }
   ],
   "source": [
    "y_train.head()"
   ]
  },
  {
   "cell_type": "code",
   "execution_count": 23,
   "metadata": {},
   "outputs": [],
   "source": [
    "train_data = pd.concat([x_train, y_train], axis=1, join='inner')\n",
    "test_data = pd.concat([x_test, y_test], axis=1, join='inner')"
   ]
  },
  {
   "cell_type": "code",
   "execution_count": 24,
   "metadata": {},
   "outputs": [
    {
     "data": {
      "text/html": [
       "<div>\n",
       "<style scoped>\n",
       "    .dataframe tbody tr th:only-of-type {\n",
       "        vertical-align: middle;\n",
       "    }\n",
       "\n",
       "    .dataframe tbody tr th {\n",
       "        vertical-align: top;\n",
       "    }\n",
       "\n",
       "    .dataframe thead th {\n",
       "        text-align: right;\n",
       "    }\n",
       "</style>\n",
       "<table border=\"1\" class=\"dataframe\">\n",
       "  <thead>\n",
       "    <tr style=\"text-align: right;\">\n",
       "      <th></th>\n",
       "      <th>NO</th>\n",
       "      <th>NO2</th>\n",
       "      <th>NOx</th>\n",
       "      <th>NH3</th>\n",
       "      <th>CO</th>\n",
       "      <th>SO2</th>\n",
       "      <th>class</th>\n",
       "    </tr>\n",
       "  </thead>\n",
       "  <tbody>\n",
       "    <tr>\n",
       "      <td>26</td>\n",
       "      <td>2.96</td>\n",
       "      <td>0.15</td>\n",
       "      <td>3.69</td>\n",
       "      <td>25.10</td>\n",
       "      <td>0.31</td>\n",
       "      <td>8.49</td>\n",
       "      <td>0</td>\n",
       "    </tr>\n",
       "    <tr>\n",
       "      <td>7113</td>\n",
       "      <td>14.65</td>\n",
       "      <td>25.52</td>\n",
       "      <td>27.65</td>\n",
       "      <td>27.99</td>\n",
       "      <td>0.85</td>\n",
       "      <td>10.84</td>\n",
       "      <td>1</td>\n",
       "    </tr>\n",
       "    <tr>\n",
       "      <td>8437</td>\n",
       "      <td>5.09</td>\n",
       "      <td>10.36</td>\n",
       "      <td>14.06</td>\n",
       "      <td>10.59</td>\n",
       "      <td>0.89</td>\n",
       "      <td>7.65</td>\n",
       "      <td>0</td>\n",
       "    </tr>\n",
       "    <tr>\n",
       "      <td>5387</td>\n",
       "      <td>9.79</td>\n",
       "      <td>16.96</td>\n",
       "      <td>26.02</td>\n",
       "      <td>30.73</td>\n",
       "      <td>0.82</td>\n",
       "      <td>10.53</td>\n",
       "      <td>1</td>\n",
       "    </tr>\n",
       "    <tr>\n",
       "      <td>10101</td>\n",
       "      <td>11.20</td>\n",
       "      <td>49.13</td>\n",
       "      <td>50.99</td>\n",
       "      <td>22.90</td>\n",
       "      <td>0.84</td>\n",
       "      <td>10.84</td>\n",
       "      <td>1</td>\n",
       "    </tr>\n",
       "  </tbody>\n",
       "</table>\n",
       "</div>"
      ],
      "text/plain": [
       "          NO    NO2    NOx    NH3    CO    SO2  class\n",
       "26      2.96   0.15   3.69  25.10  0.31   8.49      0\n",
       "7113   14.65  25.52  27.65  27.99  0.85  10.84      1\n",
       "8437    5.09  10.36  14.06  10.59  0.89   7.65      0\n",
       "5387    9.79  16.96  26.02  30.73  0.82  10.53      1\n",
       "10101  11.20  49.13  50.99  22.90  0.84  10.84      1"
      ]
     },
     "execution_count": 24,
     "metadata": {},
     "output_type": "execute_result"
    }
   ],
   "source": [
    "train_data.head()"
   ]
  },
  {
   "cell_type": "code",
   "execution_count": 25,
   "metadata": {
    "scrolled": true
   },
   "outputs": [
    {
     "data": {
      "text/html": [
       "<div>\n",
       "<style scoped>\n",
       "    .dataframe tbody tr th:only-of-type {\n",
       "        vertical-align: middle;\n",
       "    }\n",
       "\n",
       "    .dataframe tbody tr th {\n",
       "        vertical-align: top;\n",
       "    }\n",
       "\n",
       "    .dataframe thead th {\n",
       "        text-align: right;\n",
       "    }\n",
       "</style>\n",
       "<table border=\"1\" class=\"dataframe\">\n",
       "  <thead>\n",
       "    <tr style=\"text-align: right;\">\n",
       "      <th></th>\n",
       "      <th>NO</th>\n",
       "      <th>NO2</th>\n",
       "      <th>NOx</th>\n",
       "      <th>NH3</th>\n",
       "      <th>CO</th>\n",
       "      <th>SO2</th>\n",
       "      <th>class</th>\n",
       "    </tr>\n",
       "  </thead>\n",
       "  <tbody>\n",
       "    <tr>\n",
       "      <td>1120</td>\n",
       "      <td>25.75</td>\n",
       "      <td>26.49</td>\n",
       "      <td>52.24</td>\n",
       "      <td>24.71</td>\n",
       "      <td>0.00</td>\n",
       "      <td>6.71</td>\n",
       "      <td>1</td>\n",
       "    </tr>\n",
       "    <tr>\n",
       "      <td>3804</td>\n",
       "      <td>22.38</td>\n",
       "      <td>25.97</td>\n",
       "      <td>45.49</td>\n",
       "      <td>42.71</td>\n",
       "      <td>3.12</td>\n",
       "      <td>16.66</td>\n",
       "      <td>1</td>\n",
       "    </tr>\n",
       "    <tr>\n",
       "      <td>3907</td>\n",
       "      <td>15.62</td>\n",
       "      <td>16.16</td>\n",
       "      <td>27.33</td>\n",
       "      <td>36.09</td>\n",
       "      <td>2.92</td>\n",
       "      <td>6.70</td>\n",
       "      <td>1</td>\n",
       "    </tr>\n",
       "    <tr>\n",
       "      <td>11495</td>\n",
       "      <td>44.27</td>\n",
       "      <td>54.49</td>\n",
       "      <td>98.47</td>\n",
       "      <td>28.97</td>\n",
       "      <td>1.56</td>\n",
       "      <td>11.57</td>\n",
       "      <td>2</td>\n",
       "    </tr>\n",
       "    <tr>\n",
       "      <td>8383</td>\n",
       "      <td>4.86</td>\n",
       "      <td>8.74</td>\n",
       "      <td>11.95</td>\n",
       "      <td>8.93</td>\n",
       "      <td>0.92</td>\n",
       "      <td>8.03</td>\n",
       "      <td>0</td>\n",
       "    </tr>\n",
       "  </tbody>\n",
       "</table>\n",
       "</div>"
      ],
      "text/plain": [
       "          NO    NO2    NOx    NH3    CO    SO2  class\n",
       "1120   25.75  26.49  52.24  24.71  0.00   6.71      1\n",
       "3804   22.38  25.97  45.49  42.71  3.12  16.66      1\n",
       "3907   15.62  16.16  27.33  36.09  2.92   6.70      1\n",
       "11495  44.27  54.49  98.47  28.97  1.56  11.57      2\n",
       "8383    4.86   8.74  11.95   8.93  0.92   8.03      0"
      ]
     },
     "execution_count": 25,
     "metadata": {},
     "output_type": "execute_result"
    }
   ],
   "source": [
    "test_data.head()"
   ]
  },
  {
   "cell_type": "code",
   "execution_count": 26,
   "metadata": {},
   "outputs": [
    {
     "data": {
      "text/plain": [
       "array([1, 2, 0, 3, 4], dtype=int64)"
      ]
     },
     "execution_count": 26,
     "metadata": {},
     "output_type": "execute_result"
    }
   ],
   "source": [
    "test_data['class'].unique()"
   ]
  },
  {
   "cell_type": "code",
   "execution_count": 27,
   "metadata": {},
   "outputs": [],
   "source": [
    "train_data.to_csv('input/train.csv',index_label='Index')\n",
    "test_data.to_csv('input/test.csv',index_label='Index')"
   ]
  },
  {
   "cell_type": "code",
   "execution_count": 28,
   "metadata": {},
   "outputs": [
    {
     "name": "stdout",
     "output_type": "stream",
     "text": [
      "(10292, 6) (10292,) (4412, 6) (4412,)\n"
     ]
    }
   ],
   "source": [
    "#print the shape of the data\n",
    "print(x_train.shape, y_train.shape, x_test.shape, y_test.shape)"
   ]
  },
  {
   "cell_type": "code",
   "execution_count": 29,
   "metadata": {},
   "outputs": [
    {
     "data": {
      "text/html": [
       "<div>\n",
       "<style scoped>\n",
       "    .dataframe tbody tr th:only-of-type {\n",
       "        vertical-align: middle;\n",
       "    }\n",
       "\n",
       "    .dataframe tbody tr th {\n",
       "        vertical-align: top;\n",
       "    }\n",
       "\n",
       "    .dataframe thead th {\n",
       "        text-align: right;\n",
       "    }\n",
       "</style>\n",
       "<table border=\"1\" class=\"dataframe\">\n",
       "  <thead>\n",
       "    <tr style=\"text-align: right;\">\n",
       "      <th></th>\n",
       "      <th>NO</th>\n",
       "      <th>NO2</th>\n",
       "      <th>NOx</th>\n",
       "      <th>NH3</th>\n",
       "      <th>CO</th>\n",
       "      <th>SO2</th>\n",
       "      <th>class</th>\n",
       "    </tr>\n",
       "  </thead>\n",
       "  <tbody>\n",
       "    <tr>\n",
       "      <td>count</td>\n",
       "      <td>10292.000000</td>\n",
       "      <td>10292.000000</td>\n",
       "      <td>10292.000000</td>\n",
       "      <td>10292.000000</td>\n",
       "      <td>10292.000000</td>\n",
       "      <td>10292.000000</td>\n",
       "      <td>10292.000000</td>\n",
       "    </tr>\n",
       "    <tr>\n",
       "      <td>mean</td>\n",
       "      <td>17.425519</td>\n",
       "      <td>27.953659</td>\n",
       "      <td>32.310382</td>\n",
       "      <td>26.782801</td>\n",
       "      <td>1.237958</td>\n",
       "      <td>10.857200</td>\n",
       "      <td>0.872328</td>\n",
       "    </tr>\n",
       "    <tr>\n",
       "      <td>std</td>\n",
       "      <td>22.847514</td>\n",
       "      <td>20.605992</td>\n",
       "      <td>30.389752</td>\n",
       "      <td>27.962423</td>\n",
       "      <td>1.895622</td>\n",
       "      <td>8.250115</td>\n",
       "      <td>1.033415</td>\n",
       "    </tr>\n",
       "    <tr>\n",
       "      <td>min</td>\n",
       "      <td>0.030000</td>\n",
       "      <td>0.010000</td>\n",
       "      <td>0.000000</td>\n",
       "      <td>0.020000</td>\n",
       "      <td>0.000000</td>\n",
       "      <td>0.010000</td>\n",
       "      <td>0.000000</td>\n",
       "    </tr>\n",
       "    <tr>\n",
       "      <td>25%</td>\n",
       "      <td>5.450000</td>\n",
       "      <td>12.577500</td>\n",
       "      <td>13.767500</td>\n",
       "      <td>10.530000</td>\n",
       "      <td>0.600000</td>\n",
       "      <td>5.650000</td>\n",
       "      <td>0.000000</td>\n",
       "    </tr>\n",
       "    <tr>\n",
       "      <td>50%</td>\n",
       "      <td>9.820000</td>\n",
       "      <td>22.765000</td>\n",
       "      <td>23.810000</td>\n",
       "      <td>19.475000</td>\n",
       "      <td>0.890000</td>\n",
       "      <td>8.855000</td>\n",
       "      <td>1.000000</td>\n",
       "    </tr>\n",
       "    <tr>\n",
       "      <td>75%</td>\n",
       "      <td>18.762500</td>\n",
       "      <td>38.240000</td>\n",
       "      <td>39.682500</td>\n",
       "      <td>34.422500</td>\n",
       "      <td>1.280000</td>\n",
       "      <td>13.320000</td>\n",
       "      <td>1.000000</td>\n",
       "    </tr>\n",
       "    <tr>\n",
       "      <td>max</td>\n",
       "      <td>270.090000</td>\n",
       "      <td>162.500000</td>\n",
       "      <td>293.100000</td>\n",
       "      <td>352.890000</td>\n",
       "      <td>47.930000</td>\n",
       "      <td>92.660000</td>\n",
       "      <td>4.000000</td>\n",
       "    </tr>\n",
       "  </tbody>\n",
       "</table>\n",
       "</div>"
      ],
      "text/plain": [
       "                 NO           NO2           NOx           NH3            CO  \\\n",
       "count  10292.000000  10292.000000  10292.000000  10292.000000  10292.000000   \n",
       "mean      17.425519     27.953659     32.310382     26.782801      1.237958   \n",
       "std       22.847514     20.605992     30.389752     27.962423      1.895622   \n",
       "min        0.030000      0.010000      0.000000      0.020000      0.000000   \n",
       "25%        5.450000     12.577500     13.767500     10.530000      0.600000   \n",
       "50%        9.820000     22.765000     23.810000     19.475000      0.890000   \n",
       "75%       18.762500     38.240000     39.682500     34.422500      1.280000   \n",
       "max      270.090000    162.500000    293.100000    352.890000     47.930000   \n",
       "\n",
       "                SO2         class  \n",
       "count  10292.000000  10292.000000  \n",
       "mean      10.857200      0.872328  \n",
       "std        8.250115      1.033415  \n",
       "min        0.010000      0.000000  \n",
       "25%        5.650000      0.000000  \n",
       "50%        8.855000      1.000000  \n",
       "75%       13.320000      1.000000  \n",
       "max       92.660000      4.000000  "
      ]
     },
     "execution_count": 29,
     "metadata": {},
     "output_type": "execute_result"
    }
   ],
   "source": [
    "train_data.describe()"
   ]
  },
  {
   "cell_type": "code",
   "execution_count": 30,
   "metadata": {},
   "outputs": [
    {
     "data": {
      "text/html": [
       "<div>\n",
       "<style scoped>\n",
       "    .dataframe tbody tr th:only-of-type {\n",
       "        vertical-align: middle;\n",
       "    }\n",
       "\n",
       "    .dataframe tbody tr th {\n",
       "        vertical-align: top;\n",
       "    }\n",
       "\n",
       "    .dataframe thead th {\n",
       "        text-align: right;\n",
       "    }\n",
       "</style>\n",
       "<table border=\"1\" class=\"dataframe\">\n",
       "  <thead>\n",
       "    <tr style=\"text-align: right;\">\n",
       "      <th></th>\n",
       "      <th>NO</th>\n",
       "      <th>NO2</th>\n",
       "      <th>NOx</th>\n",
       "      <th>NH3</th>\n",
       "      <th>CO</th>\n",
       "      <th>SO2</th>\n",
       "      <th>class</th>\n",
       "    </tr>\n",
       "  </thead>\n",
       "  <tbody>\n",
       "    <tr>\n",
       "      <td>count</td>\n",
       "      <td>4412.00000</td>\n",
       "      <td>4412.000000</td>\n",
       "      <td>4412.000000</td>\n",
       "      <td>4412.000000</td>\n",
       "      <td>4412.000000</td>\n",
       "      <td>4412.000000</td>\n",
       "      <td>4412.000000</td>\n",
       "    </tr>\n",
       "    <tr>\n",
       "      <td>mean</td>\n",
       "      <td>18.44085</td>\n",
       "      <td>28.431961</td>\n",
       "      <td>33.652652</td>\n",
       "      <td>26.627019</td>\n",
       "      <td>1.272063</td>\n",
       "      <td>10.994288</td>\n",
       "      <td>0.904578</td>\n",
       "    </tr>\n",
       "    <tr>\n",
       "      <td>std</td>\n",
       "      <td>23.90710</td>\n",
       "      <td>21.314177</td>\n",
       "      <td>32.116231</td>\n",
       "      <td>27.622688</td>\n",
       "      <td>1.992268</td>\n",
       "      <td>8.324729</td>\n",
       "      <td>1.059425</td>\n",
       "    </tr>\n",
       "    <tr>\n",
       "      <td>min</td>\n",
       "      <td>0.06000</td>\n",
       "      <td>0.030000</td>\n",
       "      <td>0.000000</td>\n",
       "      <td>0.010000</td>\n",
       "      <td>0.000000</td>\n",
       "      <td>0.410000</td>\n",
       "      <td>0.000000</td>\n",
       "    </tr>\n",
       "    <tr>\n",
       "      <td>25%</td>\n",
       "      <td>5.44000</td>\n",
       "      <td>12.575000</td>\n",
       "      <td>13.980000</td>\n",
       "      <td>10.407500</td>\n",
       "      <td>0.620000</td>\n",
       "      <td>5.810000</td>\n",
       "      <td>0.000000</td>\n",
       "    </tr>\n",
       "    <tr>\n",
       "      <td>50%</td>\n",
       "      <td>10.12000</td>\n",
       "      <td>22.815000</td>\n",
       "      <td>24.315000</td>\n",
       "      <td>19.445000</td>\n",
       "      <td>0.910000</td>\n",
       "      <td>9.070000</td>\n",
       "      <td>1.000000</td>\n",
       "    </tr>\n",
       "    <tr>\n",
       "      <td>75%</td>\n",
       "      <td>20.56000</td>\n",
       "      <td>38.672500</td>\n",
       "      <td>41.285000</td>\n",
       "      <td>34.400000</td>\n",
       "      <td>1.290000</td>\n",
       "      <td>13.430000</td>\n",
       "      <td>1.000000</td>\n",
       "    </tr>\n",
       "    <tr>\n",
       "      <td>max</td>\n",
       "      <td>268.03000</td>\n",
       "      <td>149.120000</td>\n",
       "      <td>254.800000</td>\n",
       "      <td>323.480000</td>\n",
       "      <td>48.070000</td>\n",
       "      <td>82.070000</td>\n",
       "      <td>4.000000</td>\n",
       "    </tr>\n",
       "  </tbody>\n",
       "</table>\n",
       "</div>"
      ],
      "text/plain": [
       "               NO          NO2          NOx          NH3           CO  \\\n",
       "count  4412.00000  4412.000000  4412.000000  4412.000000  4412.000000   \n",
       "mean     18.44085    28.431961    33.652652    26.627019     1.272063   \n",
       "std      23.90710    21.314177    32.116231    27.622688     1.992268   \n",
       "min       0.06000     0.030000     0.000000     0.010000     0.000000   \n",
       "25%       5.44000    12.575000    13.980000    10.407500     0.620000   \n",
       "50%      10.12000    22.815000    24.315000    19.445000     0.910000   \n",
       "75%      20.56000    38.672500    41.285000    34.400000     1.290000   \n",
       "max     268.03000   149.120000   254.800000   323.480000    48.070000   \n",
       "\n",
       "               SO2        class  \n",
       "count  4412.000000  4412.000000  \n",
       "mean     10.994288     0.904578  \n",
       "std       8.324729     1.059425  \n",
       "min       0.410000     0.000000  \n",
       "25%       5.810000     0.000000  \n",
       "50%       9.070000     1.000000  \n",
       "75%      13.430000     1.000000  \n",
       "max      82.070000     4.000000  "
      ]
     },
     "execution_count": 30,
     "metadata": {},
     "output_type": "execute_result"
    }
   ],
   "source": [
    "test_data.describe()"
   ]
  },
  {
   "cell_type": "code",
   "execution_count": 31,
   "metadata": {},
   "outputs": [
    {
     "data": {
      "text/plain": [
       "NO     float64\n",
       "NO2    float64\n",
       "NOx    float64\n",
       "NH3    float64\n",
       "CO     float64\n",
       "SO2    float64\n",
       "dtype: object"
      ]
     },
     "execution_count": 31,
     "metadata": {},
     "output_type": "execute_result"
    }
   ],
   "source": [
    "x_train.dtypes"
   ]
  },
  {
   "cell_type": "code",
   "execution_count": 32,
   "metadata": {},
   "outputs": [
    {
     "data": {
      "text/plain": [
       "dtype('int8')"
      ]
     },
     "execution_count": 32,
     "metadata": {},
     "output_type": "execute_result"
    }
   ],
   "source": [
    "y_train.dtypes"
   ]
  },
  {
   "cell_type": "code",
   "execution_count": 33,
   "metadata": {},
   "outputs": [
    {
     "data": {
      "text/plain": [
       "26       0\n",
       "7113     1\n",
       "8437     0\n",
       "5387     1\n",
       "10101    1\n",
       "11372    0\n",
       "4648     0\n",
       "11471    4\n",
       "11983    0\n",
       "2759     0\n",
       "Name: class, dtype: int8"
      ]
     },
     "execution_count": 33,
     "metadata": {},
     "output_type": "execute_result"
    }
   ],
   "source": [
    "y_train.head(10)"
   ]
  },
  {
   "cell_type": "code",
   "execution_count": 34,
   "metadata": {},
   "outputs": [
    {
     "data": {
      "text/plain": [
       "1120     1\n",
       "3804     1\n",
       "3907     1\n",
       "11495    2\n",
       "8383     0\n",
       "4324     1\n",
       "6123     2\n",
       "8242     2\n",
       "3081     1\n",
       "11711    2\n",
       "Name: class, dtype: int8"
      ]
     },
     "execution_count": 34,
     "metadata": {},
     "output_type": "execute_result"
    }
   ],
   "source": [
    "y_test.head(10)"
   ]
  },
  {
   "cell_type": "markdown",
   "metadata": {},
   "source": [
    "# Done"
   ]
  },
  {
   "cell_type": "code",
   "execution_count": 35,
   "metadata": {},
   "outputs": [],
   "source": [
    "from keras.utils import to_categorical"
   ]
  },
  {
   "cell_type": "code",
   "execution_count": 36,
   "metadata": {},
   "outputs": [],
   "source": [
    "y_train_binary = to_categorical(y_train)"
   ]
  },
  {
   "cell_type": "code",
   "execution_count": 37,
   "metadata": {},
   "outputs": [],
   "source": [
    "y_test_binary = to_categorical(y_test)"
   ]
  },
  {
   "cell_type": "code",
   "execution_count": 38,
   "metadata": {},
   "outputs": [],
   "source": [
    "from sklearn.preprocessing import StandardScaler"
   ]
  },
  {
   "cell_type": "code",
   "execution_count": 39,
   "metadata": {},
   "outputs": [],
   "source": [
    "scaler = StandardScaler()"
   ]
  },
  {
   "cell_type": "code",
   "execution_count": 40,
   "metadata": {},
   "outputs": [],
   "source": [
    "x_std_train = scaler.fit_transform(x_train)\n",
    "x_std_test = scaler.fit_transform(x_test)"
   ]
  },
  {
   "cell_type": "code",
   "execution_count": 41,
   "metadata": {},
   "outputs": [],
   "source": [
    "# x_train_inverse = scaler.inverse_transform(x_std_train)\n",
    "# x_test_inverse = scaler.inverse_transform(x_std_test)"
   ]
  },
  {
   "cell_type": "code",
   "execution_count": 42,
   "metadata": {},
   "outputs": [
    {
     "name": "stdout",
     "output_type": "stream",
     "text": [
      "WARNING:tensorflow:From C:\\Users\\poornima\\Anaconda3\\lib\\site-packages\\keras\\backend\\tensorflow_backend.py:74: The name tf.get_default_graph is deprecated. Please use tf.compat.v1.get_default_graph instead.\n",
      "\n"
     ]
    }
   ],
   "source": [
    "model =Sequential()"
   ]
  },
  {
   "cell_type": "code",
   "execution_count": 43,
   "metadata": {},
   "outputs": [
    {
     "name": "stdout",
     "output_type": "stream",
     "text": [
      "WARNING:tensorflow:From C:\\Users\\poornima\\Anaconda3\\lib\\site-packages\\keras\\backend\\tensorflow_backend.py:517: The name tf.placeholder is deprecated. Please use tf.compat.v1.placeholder instead.\n",
      "\n",
      "WARNING:tensorflow:From C:\\Users\\poornima\\Anaconda3\\lib\\site-packages\\keras\\backend\\tensorflow_backend.py:4138: The name tf.random_uniform is deprecated. Please use tf.random.uniform instead.\n",
      "\n",
      "WARNING:tensorflow:From C:\\Users\\poornima\\Anaconda3\\lib\\site-packages\\keras\\backend\\tensorflow_backend.py:133: The name tf.placeholder_with_default is deprecated. Please use tf.compat.v1.placeholder_with_default instead.\n",
      "\n",
      "WARNING:tensorflow:From C:\\Users\\poornima\\Anaconda3\\lib\\site-packages\\keras\\backend\\tensorflow_backend.py:3445: calling dropout (from tensorflow.python.ops.nn_ops) with keep_prob is deprecated and will be removed in a future version.\n",
      "Instructions for updating:\n",
      "Please use `rate` instead of `keep_prob`. Rate should be set to `rate = 1 - keep_prob`.\n"
     ]
    }
   ],
   "source": [
    "model.add(Dense(32, input_dim =6, activation='relu'))\n",
    "model.add(Dense(32, activation='relu'))\n",
    "model.add(Dropout(0.2))\n",
    "model.add(Dense(64, activation='relu'))\n",
    "model.add(Dropout(0.2))\n",
    "model.add(Dense(128, activation='relu'))\n",
    "model.add(Dropout(0.2))\n",
    "model.add(Dense(256, activation='relu'))\n",
    "model.add(Dropout(0.2))\n",
    "model.add(Dense(512, activation='relu'))\n",
    "model.add(Dense(5, activation='sigmoid'))"
   ]
  },
  {
   "cell_type": "code",
   "execution_count": 44,
   "metadata": {},
   "outputs": [
    {
     "name": "stdout",
     "output_type": "stream",
     "text": [
      "WARNING:tensorflow:From C:\\Users\\poornima\\Anaconda3\\lib\\site-packages\\keras\\optimizers.py:790: The name tf.train.Optimizer is deprecated. Please use tf.compat.v1.train.Optimizer instead.\n",
      "\n",
      "WARNING:tensorflow:From C:\\Users\\poornima\\Anaconda3\\lib\\site-packages\\keras\\backend\\tensorflow_backend.py:3295: The name tf.log is deprecated. Please use tf.math.log instead.\n",
      "\n"
     ]
    }
   ],
   "source": [
    "model.compile(\n",
    "    optimizer=Adam(lr =0.0001),\n",
    "    loss= 'categorical_crossentropy',\n",
    "    metrics=['accuracy']\n",
    ")"
   ]
  },
  {
   "cell_type": "code",
   "execution_count": 45,
   "metadata": {
    "scrolled": true
   },
   "outputs": [
    {
     "name": "stdout",
     "output_type": "stream",
     "text": [
      "WARNING:tensorflow:From C:\\Users\\poornima\\Anaconda3\\lib\\site-packages\\tensorflow\\python\\ops\\math_grad.py:1250: add_dispatch_support.<locals>.wrapper (from tensorflow.python.ops.array_ops) is deprecated and will be removed in a future version.\n",
      "Instructions for updating:\n",
      "Use tf.where in 2.0, which has the same broadcast rule as np.where\n",
      "Train on 10292 samples, validate on 4412 samples\n",
      "Epoch 1/5\n",
      "10292/10292 [==============================] - 2s 194us/step - loss: 1.1522 - acc: 0.5169 - val_loss: 0.6016 - val_acc: 0.6911\n",
      "Epoch 2/5\n",
      "10292/10292 [==============================] - 2s 158us/step - loss: 0.5300 - acc: 0.7797 - val_loss: 0.3134 - val_acc: 0.8758\n",
      "Epoch 3/5\n",
      "10292/10292 [==============================] - 2s 164us/step - loss: 0.3830 - acc: 0.8366 - val_loss: 0.2501 - val_acc: 0.8883\n",
      "Epoch 4/5\n",
      "10292/10292 [==============================] - 1s 145us/step - loss: 0.3259 - acc: 0.8565 - val_loss: 0.2008 - val_acc: 0.9066\n",
      "Epoch 5/5\n",
      "10292/10292 [==============================] - 2s 150us/step - loss: 0.2812 - acc: 0.8726 - val_loss: 0.1874 - val_acc: 0.9014\n"
     ]
    },
    {
     "data": {
      "text/plain": [
       "<keras.callbacks.History at 0x155f5b5f688>"
      ]
     },
     "execution_count": 45,
     "metadata": {},
     "output_type": "execute_result"
    }
   ],
   "source": [
    "model.fit(\n",
    "    x_std_train,\n",
    "    y_train_binary,\n",
    "    epochs=5,\n",
    "    validation_data=(x_std_test, y_test_binary),\n",
    "    shuffle=True\n",
    ")"
   ]
  },
  {
   "cell_type": "code",
   "execution_count": 46,
   "metadata": {},
   "outputs": [],
   "source": [
    "y_pred = model.predict(x_std_test, batch_size=10, verbose=0)"
   ]
  },
  {
   "cell_type": "code",
   "execution_count": 47,
   "metadata": {},
   "outputs": [
    {
     "data": {
      "text/plain": [
       "4412"
      ]
     },
     "execution_count": 47,
     "metadata": {},
     "output_type": "execute_result"
    }
   ],
   "source": [
    "y_predict = []\n",
    "for i in range(0, len(y_pred)):\n",
    "    y_predict.append(int(np.argmax(y_pred[i])))\n",
    "len(y_predict)"
   ]
  },
  {
   "cell_type": "code",
   "execution_count": 48,
   "metadata": {},
   "outputs": [
    {
     "data": {
      "text/plain": [
       "4412"
      ]
     },
     "execution_count": 48,
     "metadata": {},
     "output_type": "execute_result"
    }
   ],
   "source": [
    "y_true = []\n",
    "for i in range(0, len(y_test_binary)):\n",
    "    y_true.append(int(np.argmax(y_test_binary[i])))\n",
    "len(y_true)"
   ]
  },
  {
   "cell_type": "code",
   "execution_count": 49,
   "metadata": {},
   "outputs": [],
   "source": [
    "def plot_confusion_matrix(cm, classes,title='Confusion matrix'):\n",
    "    \n",
    "    plt.imshow(cm, interpolation='nearest', cmap='YlGnBu')\n",
    "    plt.title(title)\n",
    "    plt.colorbar()\n",
    "    tick_marks = np.arange(len(classes))\n",
    "    plt.xticks(tick_marks, classes, rotation=45)\n",
    "    plt.yticks(tick_marks, classes)\n",
    "    \n",
    "    \n",
    "    fmt = 'd'\n",
    "    thresh = cm.max() / 2.\n",
    "    for i, j in itertools.product(range(cm.shape[0]), range(cm.shape[1])):\n",
    "        plt.text(j, i, format(cm[i, j], fmt),\n",
    "                 horizontalalignment=\"center\",\n",
    "                 color=\"white\" if cm[i, j] > thresh else \"black\")\n",
    "\n",
    "    plt.ylabel('True label')\n",
    "    plt.xlabel('Predicted label')\n",
    "    plt.tight_layout()\n",
    "    plt.show()"
   ]
  },
  {
   "cell_type": "code",
   "execution_count": 50,
   "metadata": {},
   "outputs": [],
   "source": [
    "cm_plot_labels = [\n",
    "    'Good',\n",
    "    'Satisfactory',\n",
    "    'Moderate',\n",
    "    'Poor',\n",
    "    'Severe'\n",
    "]"
   ]
  },
  {
   "cell_type": "code",
   "execution_count": 51,
   "metadata": {},
   "outputs": [
    {
     "name": "stdout",
     "output_type": "stream",
     "text": [
      "              precision    recall  f1-score   support\n",
      "\n",
      "           0       0.95      0.99      0.97      1957\n",
      "           1       0.93      0.91      0.92      1464\n",
      "           2       0.73      0.88      0.80       650\n",
      "           3       0.93      0.93      0.93       137\n",
      "           4       0.00      0.00      0.00       204\n",
      "\n",
      "    accuracy                           0.90      4412\n",
      "   macro avg       0.71      0.74      0.72      4412\n",
      "weighted avg       0.86      0.90      0.88      4412\n",
      "\n"
     ]
    },
    {
     "name": "stderr",
     "output_type": "stream",
     "text": [
      "C:\\Users\\poornima\\Anaconda3\\lib\\site-packages\\sklearn\\metrics\\classification.py:1437: UndefinedMetricWarning: Precision and F-score are ill-defined and being set to 0.0 in labels with no predicted samples.\n",
      "  'precision', 'predicted', average, warn_for)\n"
     ]
    }
   ],
   "source": [
    "print(classification_report(y_true=y_true,y_pred=y_predict))"
   ]
  },
  {
   "cell_type": "code",
   "execution_count": 52,
   "metadata": {},
   "outputs": [
    {
     "name": "stdout",
     "output_type": "stream",
     "text": [
      "Accuracy :  90.14052583862194\n"
     ]
    }
   ],
   "source": [
    "acc = accuracy_score(y_true=y_test, y_pred= y_predict)\n",
    "print('Accuracy : ',acc*100)"
   ]
  },
  {
   "cell_type": "code",
   "execution_count": 53,
   "metadata": {},
   "outputs": [
    {
     "data": {
      "image/png": "[encoded data removed]",
      "text/plain": [
       "<Figure size 432x288 with 2 Axes>"
      ]
     },
     "metadata": {
      "needs_background": "light"
     },
     "output_type": "display_data"
    }
   ],
   "source": [
    "cm = confusion_matrix(y_true=y_true, y_pred=y_predict)\n",
    "plot_confusion_matrix(cm, cm_plot_labels, title='Confusion Matrix')"
   ]
  },
  {
   "cell_type": "code",
   "execution_count": 54,
   "metadata": {},
   "outputs": [
    {
     "name": "stdout",
     "output_type": "stream",
     "text": [
      "4412/4412 [==============================] - 0s 30us/step\n",
      "Loss Value :  0.18739614378346817\n",
      "Accuracy :  0.9014052583862194\n"
     ]
    }
   ],
   "source": [
    "score = model.evaluate(x= x_std_test, y= y_test_binary, batch_size=32)\n",
    "acc = score[1]\n",
    "err = 1 - acc\n",
    "print(\"Loss Value : \", score[0])\n",
    "print(\"Accuracy : \", score[1])"
   ]
  },
  {
   "cell_type": "code",
   "execution_count": 55,
   "metadata": {},
   "outputs": [
    {
     "data": {
      "text/plain": [
       "3954"
      ]
     },
     "execution_count": 55,
     "metadata": {},
     "output_type": "execute_result"
    }
   ],
   "source": [
    "model_structure = model.to_json()\n",
    "f = Path(\"model/model_structure.json\")\n",
    "f.write_text(model_structure)"
   ]
  },
  {
   "cell_type": "code",
   "execution_count": 56,
   "metadata": {},
   "outputs": [],
   "source": [
    "model.save_weights(\"model/model_weights.h5\")"
   ]
  },
  {
   "cell_type": "markdown",
   "metadata": {},
   "source": [
    "# Training the SVM"
   ]
  },
  {
   "cell_type": "code",
   "execution_count": 57,
   "metadata": {},
   "outputs": [],
   "source": [
    "from sklearn.svm import SVC\n",
    "from sklearn.metrics import classification_report,confusion_matrix,accuracy_score"
   ]
  },
  {
   "cell_type": "code",
   "execution_count": 58,
   "metadata": {},
   "outputs": [],
   "source": [
    "model_svm = SVC(C=1e20)"
   ]
  },
  {
   "cell_type": "code",
   "execution_count": 59,
   "metadata": {},
   "outputs": [
    {
     "name": "stderr",
     "output_type": "stream",
     "text": [
      "C:\\Users\\poornima\\Anaconda3\\lib\\site-packages\\sklearn\\svm\\base.py:193: FutureWarning: The default value of gamma will change from 'auto' to 'scale' in version 0.22 to account better for unscaled features. Set gamma explicitly to 'auto' or 'scale' to avoid this warning.\n",
      "  \"avoid this warning.\", FutureWarning)\n"
     ]
    },
    {
     "data": {
      "text/plain": [
       "SVC(C=1e+20, cache_size=200, class_weight=None, coef0=0.0,\n",
       "    decision_function_shape='ovr', degree=3, gamma='auto_deprecated',\n",
       "    kernel='rbf', max_iter=-1, probability=False, random_state=None,\n",
       "    shrinking=True, tol=0.001, verbose=False)"
      ]
     },
     "execution_count": 59,
     "metadata": {},
     "output_type": "execute_result"
    }
   ],
   "source": [
    "model_svm.fit(x_train, y_train)"
   ]
  },
  {
   "cell_type": "markdown",
   "metadata": {},
   "source": [
    "# Predictions and Evaluation"
   ]
  },
  {
   "cell_type": "code",
   "execution_count": 60,
   "metadata": {},
   "outputs": [],
   "source": [
    "predictions_svm = model_svm.predict(x_test)"
   ]
  },
  {
   "cell_type": "code",
   "execution_count": 61,
   "metadata": {},
   "outputs": [
    {
     "name": "stdout",
     "output_type": "stream",
     "text": [
      "Overall accuracy of SVM model using test-set is : 74.002720\n"
     ]
    }
   ],
   "source": [
    "acc_svm = accuracy_score(y_true=y_test, y_pred= predictions_svm)\n",
    "print(\"Overall accuracy of SVM model using test-set is : %f\" %(acc_svm*100))"
   ]
  },
  {
   "cell_type": "code",
   "execution_count": 62,
   "metadata": {},
   "outputs": [
    {
     "name": "stdout",
     "output_type": "stream",
     "text": [
      "              precision    recall  f1-score   support\n",
      "\n",
      "           0       0.99      0.88      0.93      1957\n",
      "           1       0.56      0.99      0.72      1464\n",
      "           2       1.00      0.13      0.22       650\n",
      "           3       1.00      0.09      0.16       137\n",
      "           4       1.00      0.00      0.01       204\n",
      "\n",
      "    accuracy                           0.74      4412\n",
      "   macro avg       0.91      0.42      0.41      4412\n",
      "weighted avg       0.85      0.74      0.69      4412\n",
      "\n"
     ]
    }
   ],
   "source": [
    "print(classification_report(y_test,predictions_svm))"
   ]
  },
  {
   "cell_type": "code",
   "execution_count": 63,
   "metadata": {},
   "outputs": [
    {
     "data": {
      "image/png": "[encoded data removed]",
      "text/plain": [
       "<Figure size 432x288 with 2 Axes>"
      ]
     },
     "metadata": {
      "needs_background": "light"
     },
     "output_type": "display_data"
    }
   ],
   "source": [
    "# confusion_matrix(y_test,predictions_svm))\n",
    "# plot_confusion_matrix(cm, cm_plot_labels, title='Confusion Matrix')\n",
    "\n",
    "cm = confusion_matrix(y_true=y_test, y_pred=predictions_svm)\n",
    "plot_confusion_matrix(cm, cm_plot_labels, title='Confusion Matrix')"
   ]
  },
  {
   "cell_type": "markdown",
   "metadata": {},
   "source": [
    "# Train the Logistic Regration"
   ]
  },
  {
   "cell_type": "code",
   "execution_count": 64,
   "metadata": {},
   "outputs": [],
   "source": [
    "from sklearn.linear_model import LogisticRegression"
   ]
  },
  {
   "cell_type": "code",
   "execution_count": 65,
   "metadata": {},
   "outputs": [],
   "source": [
    "logreg = LogisticRegression(C=1.0)"
   ]
  },
  {
   "cell_type": "code",
   "execution_count": 66,
   "metadata": {},
   "outputs": [
    {
     "name": "stderr",
     "output_type": "stream",
     "text": [
      "C:\\Users\\poornima\\Anaconda3\\lib\\site-packages\\sklearn\\linear_model\\logistic.py:432: FutureWarning: Default solver will be changed to 'lbfgs' in 0.22. Specify a solver to silence this warning.\n",
      "  FutureWarning)\n",
      "C:\\Users\\poornima\\Anaconda3\\lib\\site-packages\\sklearn\\linear_model\\logistic.py:469: FutureWarning: Default multi_class will be changed to 'auto' in 0.22. Specify the multi_class option to silence this warning.\n",
      "  \"this warning.\", FutureWarning)\n"
     ]
    },
    {
     "data": {
      "text/plain": [
       "LogisticRegression(C=1.0, class_weight=None, dual=False, fit_intercept=True,\n",
       "                   intercept_scaling=1, l1_ratio=None, max_iter=100,\n",
       "                   multi_class='warn', n_jobs=None, penalty='l2',\n",
       "                   random_state=None, solver='warn', tol=0.0001, verbose=0,\n",
       "                   warm_start=False)"
      ]
     },
     "execution_count": 66,
     "metadata": {},
     "output_type": "execute_result"
    }
   ],
   "source": [
    "logreg.fit(x_train,y_train)"
   ]
  },
  {
   "cell_type": "code",
   "execution_count": 67,
   "metadata": {},
   "outputs": [],
   "source": [
    "y_pred = logreg.predict(x_test)"
   ]
  },
  {
   "cell_type": "markdown",
   "metadata": {},
   "source": [
    "# Evaluating the Logistic Regration"
   ]
  },
  {
   "cell_type": "code",
   "execution_count": 68,
   "metadata": {},
   "outputs": [
    {
     "name": "stdout",
     "output_type": "stream",
     "text": [
      "Overall accuracy of LR model using test-set is : 89.777879\n"
     ]
    }
   ],
   "source": [
    "acc_lr = accuracy_score(y_true=y_test, y_pred= y_pred)\n",
    "print(\"Overall accuracy of LR model using test-set is : %f\" %(acc_lr*100))"
   ]
  },
  {
   "cell_type": "code",
   "execution_count": 69,
   "metadata": {},
   "outputs": [
    {
     "name": "stdout",
     "output_type": "stream",
     "text": [
      "              precision    recall  f1-score   support\n",
      "\n",
      "           0       0.96      1.00      0.98      1957\n",
      "           1       0.82      0.93      0.87      1464\n",
      "           2       0.86      0.53      0.65       650\n",
      "           3       0.92      0.96      0.94       137\n",
      "           4       0.93      0.82      0.87       204\n",
      "\n",
      "    accuracy                           0.90      4412\n",
      "   macro avg       0.90      0.85      0.86      4412\n",
      "weighted avg       0.90      0.90      0.89      4412\n",
      "\n"
     ]
    }
   ],
   "source": [
    "print(classification_report(y_test, y_pred))"
   ]
  },
  {
   "cell_type": "code",
   "execution_count": 70,
   "metadata": {},
   "outputs": [
    {
     "data": {
      "image/png": "[encoded data removed]",
      "text/plain": [
       "<Figure size 432x288 with 2 Axes>"
      ]
     },
     "metadata": {
      "needs_background": "light"
     },
     "output_type": "display_data"
    }
   ],
   "source": [
    "#print(confusion_matrix(y_test, y_pred))\n",
    "cm = confusion_matrix(y_true=y_test, y_pred=y_pred)\n",
    "plot_confusion_matrix(cm, cm_plot_labels, title='Confusion Matrix')"
   ]
  },
  {
   "cell_type": "markdown",
   "metadata": {},
   "source": [
    "# Train the Naive Bayes"
   ]
  },
  {
   "cell_type": "code",
   "execution_count": 71,
   "metadata": {},
   "outputs": [],
   "source": [
    "from sklearn.naive_bayes import GaussianNB"
   ]
  },
  {
   "cell_type": "code",
   "execution_count": 72,
   "metadata": {},
   "outputs": [],
   "source": [
    "nb_model = GaussianNB()"
   ]
  },
  {
   "cell_type": "code",
   "execution_count": 73,
   "metadata": {},
   "outputs": [
    {
     "data": {
      "text/plain": [
       "GaussianNB(priors=None, var_smoothing=1e-09)"
      ]
     },
     "execution_count": 73,
     "metadata": {},
     "output_type": "execute_result"
    }
   ],
   "source": [
    "nb_model.fit(x_train,y_train)"
   ]
  },
  {
   "cell_type": "code",
   "execution_count": 74,
   "metadata": {},
   "outputs": [],
   "source": [
    "y_pred = nb_model.predict(x_test)"
   ]
  },
  {
   "cell_type": "markdown",
   "metadata": {},
   "source": [
    "# Evaluating the Naive bayes"
   ]
  },
  {
   "cell_type": "code",
   "execution_count": 75,
   "metadata": {},
   "outputs": [
    {
     "name": "stdout",
     "output_type": "stream",
     "text": [
      "Overall accuracy of NB model using test-set is : 90.117860\n"
     ]
    }
   ],
   "source": [
    "acc_nb = accuracy_score(y_true=y_test, y_pred= y_pred)\n",
    "print(\"Overall accuracy of NB model using test-set is : %f\" %(acc_nb*100))"
   ]
  },
  {
   "cell_type": "code",
   "execution_count": 76,
   "metadata": {},
   "outputs": [
    {
     "name": "stdout",
     "output_type": "stream",
     "text": [
      "              precision    recall  f1-score   support\n",
      "\n",
      "           0       0.98      0.89      0.93      1957\n",
      "           1       0.86      0.90      0.88      1464\n",
      "           2       0.85      0.90      0.87       650\n",
      "           3       0.74      0.93      0.83       137\n",
      "           4       0.82      0.95      0.88       204\n",
      "\n",
      "    accuracy                           0.90      4412\n",
      "   macro avg       0.85      0.92      0.88      4412\n",
      "weighted avg       0.91      0.90      0.90      4412\n",
      "\n"
     ]
    }
   ],
   "source": [
    "print(classification_report(y_test, y_pred))"
   ]
  },
  {
   "cell_type": "code",
   "execution_count": 77,
   "metadata": {},
   "outputs": [
    {
     "data": {
      "image/png": "[encoded data removed]",
      "text/plain": [
       "<Figure size 432x288 with 2 Axes>"
      ]
     },
     "metadata": {
      "needs_background": "light"
     },
     "output_type": "display_data"
    }
   ],
   "source": [
    "#print(confusion_matrix(y_test, y_pred))\n",
    "cm = confusion_matrix(y_true=y_test, y_pred=y_pred)\n",
    "plot_confusion_matrix(cm, cm_plot_labels, title='Confusion Matrix')"
   ]
  },
  {
   "cell_type": "markdown",
   "metadata": {},
   "source": [
    "# Training the Random Forest model"
   ]
  },
  {
   "cell_type": "code",
   "execution_count": 79,
   "metadata": {},
   "outputs": [],
   "source": [
    "from sklearn.ensemble import RandomForestClassifier"
   ]
  },
  {
   "cell_type": "code",
   "execution_count": 80,
   "metadata": {},
   "outputs": [],
   "source": [
    "rfc = RandomForestClassifier(n_estimators=600)\n",
    "rfc = rfc.fit(x_train,y_train)"
   ]
  },
  {
   "cell_type": "markdown",
   "metadata": {},
   "source": [
    "# Predictions and Evaluation of RF Model"
   ]
  },
  {
   "cell_type": "code",
   "execution_count": 81,
   "metadata": {},
   "outputs": [],
   "source": [
    "predictions_rf = rfc.predict(x_test)"
   ]
  },
  {
   "cell_type": "code",
   "execution_count": 82,
   "metadata": {},
   "outputs": [
    {
     "name": "stdout",
     "output_type": "stream",
     "text": [
      "Overall accuracy of RF model using test-set is : 97.642792\n"
     ]
    }
   ],
   "source": [
    "acc_rf = accuracy_score(y_true=y_test, y_pred= predictions_rf)\n",
    "print(\"Overall accuracy of RF model using test-set is : %f\" %(acc_rf*100))"
   ]
  },
  {
   "cell_type": "code",
   "execution_count": 83,
   "metadata": {},
   "outputs": [
    {
     "name": "stdout",
     "output_type": "stream",
     "text": [
      "              precision    recall  f1-score   support\n",
      "\n",
      "           0       0.98      0.99      0.99      1957\n",
      "           1       0.97      0.97      0.97      1464\n",
      "           2       0.97      0.97      0.97       650\n",
      "           3       0.97      0.96      0.97       137\n",
      "           4       0.96      0.98      0.97       204\n",
      "\n",
      "    accuracy                           0.98      4412\n",
      "   macro avg       0.97      0.97      0.97      4412\n",
      "weighted avg       0.98      0.98      0.98      4412\n",
      "\n"
     ]
    }
   ],
   "source": [
    "print(classification_report(y_test,predictions_rf))"
   ]
  },
  {
   "cell_type": "code",
   "execution_count": 85,
   "metadata": {},
   "outputs": [
    {
     "data": {
      "image/png": "[encoded data removed]",
      "text/plain": [
       "<Figure size 432x288 with 2 Axes>"
      ]
     },
     "metadata": {
      "needs_background": "light"
     },
     "output_type": "display_data"
    }
   ],
   "source": [
    "#print(confusion_matrix(y_test,predictions_rf))\n",
    "cm = confusion_matrix(y_true=y_test, y_pred=predictions_rf)\n",
    "plot_confusion_matrix(cm, cm_plot_labels, title='Confusion Matrix')"
   ]
  },
  {
   "cell_type": "markdown",
   "metadata": {},
   "source": [
    "# Model Accuracy plot"
   ]
  },
  {
   "cell_type": "code",
   "execution_count": 86,
   "metadata": {},
   "outputs": [],
   "source": [
    "import seaborn as sns\n",
    "li_x = ['SVM', 'LR', 'NB','ANN', 'RF']\n",
    "li_y = [acc_svm, acc_lr,acc_nb,acc,acc_rf]"
   ]
  },
  {
   "cell_type": "code",
   "execution_count": 87,
   "metadata": {},
   "outputs": [
    {
     "name": "stdout",
     "output_type": "stream",
     "text": [
      "[0.7400271985494107, 0.8977787851314597, 0.9011786038077969, 0.9014052583862194, 0.9764279238440616]\n"
     ]
    },
    {
     "data": {
      "text/plain": [
       "<matplotlib.axes._subplots.AxesSubplot at 0x155874ef188>"
      ]
     },
     "execution_count": 87,
     "metadata": {},
     "output_type": "execute_result"
    },
    {
     "data": {
      "image/png": "[encoded data removed]",
      "text/plain": [
       "<Figure size 432x288 with 1 Axes>"
      ]
     },
     "metadata": {
      "needs_background": "light"
     },
     "output_type": "display_data"
    }
   ],
   "source": [
    "print(li_y)\n",
    "sns.barplot(x=li_x, y=li_y)"
   ]
  },
  {
   "cell_type": "markdown",
   "metadata": {},
   "source": [
    "# Thank You..."
   ]
  }
 ],
 "metadata": {
  "kernelspec": {
   "display_name": "Python 3",
   "language": "python",
   "name": "python3"
  },
  "language_info": {
   "codemirror_mode": {
    "name": "ipython",
    "version": 3
   },
   "file_extension": ".py",
   "mimetype": "text/x-python",
   "name": "python",
   "nbconvert_exporter": "python",
   "pygments_lexer": "ipython3",
   "version": "3.7.4"
  }
 },
 "nbformat": 4,
 "nbformat_minor": 2
}
